{
 "metadata": {
  "name": ""
 },
 "nbformat": 3,
 "nbformat_minor": 0,
 "worksheets": [
  {
   "cells": [
    {
     "cell_type": "code",
     "collapsed": false,
     "input": [
      "import csv\n"
     ],
     "language": "python",
     "metadata": {},
     "outputs": [],
     "prompt_number": 6
    },
    {
     "cell_type": "code",
     "collapsed": false,
     "input": [
      "f = open('melanoma.csv', 'rb')\n",
      "reader = csv.reader(f)\n",
      "year = []\n",
      "incidence = []\n",
      "\n",
      "for row in reader:\n",
      "    year.append(row[0])\n",
      "    incidence.append(row[1])\n",
      "year.pop(0)\n",
      "incidence.pop(0)\n",
      "print year\n",
      "print incidence\n",
      "    \n",
      "f.close()"
     ],
     "language": "python",
     "metadata": {},
     "outputs": [
      {
       "output_type": "stream",
       "stream": "stdout",
       "text": [
        "['1936', '1937', '1938', '1939', '1940', '1941', '1942', '1943', '1944', '1945', '1946', '1947', '1948', '1949', '1950', '1951', '1952', '1953', '1954', '1955', '1956', '1957', '1958', '1959', '1960', '1961', '1962', '1963', '1964', '1965', '1966', '1967', '1968', '1969', '1970', '1971', '1972']\n",
        "['.9', '.8', '.8', '1.3', '1.4', '1.2', '1.7', '1.8', '1.6', '1.5', '1.5', '2', '2.5', '2.7', '2.9', '2.5', '3.1', '2.4', '2.2', '2.9', '2.5', '2.6', '3.2', '3.8', '4.2', '3.9', '3.7', '3.3', '3.7', '3.9', '4.1', '3.8', '4.7', '4.4', '4.8', '4.8', '4.8']\n"
       ]
      }
     ],
     "prompt_number": 12
    },
    {
     "cell_type": "code",
     "collapsed": false,
     "input": [],
     "language": "python",
     "metadata": {},
     "outputs": []
    }
   ],
   "metadata": {}
  }
 ]
}